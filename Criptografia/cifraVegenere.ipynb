{
 "cells": [
  {
   "cell_type": "code",
   "execution_count": 74,
   "metadata": {},
   "outputs": [],
   "source": [
    "alfabeto= 'abcdefghijklmnopqrstuvwxyzç0123456789ABCDEFGHIJKLMNOPQRSTUVWXYZÇ!áéíóúàèìòùãõâêîôûÁÉÍÓÚÀÈÌÒÙÃÕÂÊÎôÛ\"#$%&\\'()*+,-./:;<=>?@[\\\\]^_`{|}~ \\t\\n\\r\\x0b\\x0c '\n",
    "\n",
    "def encrypt(texto,chave):\n",
    "    cifrada = []\n",
    "    k = 0 \n",
    "    for i in range(len(texto)):\n",
    "        if (k < len(chave)):\n",
    "            horizontal = (alfabeto.index(chave[k])) % len(alfabeto)\n",
    "            vertical = (alfabeto.index(texto[i])+1) % len(alfabeto)\n",
    "        else:\n",
    "            k = 0\n",
    "            horizontal = (alfabeto.index(chave[k])) % len(alfabeto)\n",
    "            vertical = alfabeto.index(texto[i]) + 1\n",
    "        \n",
    "        k+=1    \n",
    "        cifrada.append(horizontal+vertical)\n",
    "    \n",
    "    resultado = []\n",
    "    for i,valor in enumerate(cifrada):\n",
    "        resultado.append(alfabeto[cifrada[i] % len(alfabeto)-1])\n",
    "\n",
    "    resultadoString = ''.join(str(valor) for valor in resultado)\n",
    "    \n",
    "    return resultadoString\n",
    "\n",
    "def decrypt(texto,chave):\n",
    "    cifrada = []\n",
    "    k = 0 \n",
    "    for i in range(len(texto)):\n",
    "        if (k < len(chave)):\n",
    "            horizontal = (alfabeto.index(chave[k])) % len(alfabeto)#alfabeto.index(chave[i])\n",
    "            vertical = (alfabeto.index(texto[i])+1) % len(alfabeto)#alfabeto.index(texto[i]) +1\n",
    "        else:\n",
    "            k = 0\n",
    "            horizontal = (alfabeto.index(chave[k])) % len(alfabeto)\n",
    "            vertical = alfabeto.index(texto[i]) +1\n",
    "        \n",
    "        k+=1    \n",
    "        cifrada.append(vertical-horizontal)\n",
    "    \n",
    "    resultado = []\n",
    "    for i,valor in enumerate(cifrada):\n",
    "        resultado.append(alfabeto[cifrada[i] % len(alfabeto)-1])\n",
    "\n",
    "    resultadoString = ''.join(str(valor) for valor in resultado)\n",
    "    \n",
    "    return resultadoString\n"
   ]
  },
  {
   "cell_type": "code",
   "execution_count": 77,
   "metadata": {},
   "outputs": [
    {
     "name": "stdout",
     "output_type": "stream",
     "text": [
      "õrçviixrbviBC0bgrrAvxves7gxcvp~gucxûAvi\n",
      "htnrçvys74bgqiBrowvp6Ci\n",
      "htnvvhs55n7âsiLgA\n",
      "7iÍ\n"
     ]
    }
   ],
   "source": [
    "textoTeste = 'Teste de texto encriptado para, matéria de estudos em segurança de informação 1 2 3 !'\n",
    "\n",
    "encriptado = encrypt(textoTeste,'unicep')\n",
    "print(encriptado)"
   ]
  },
  {
   "cell_type": "code",
   "execution_count": 78,
   "metadata": {},
   "outputs": [
    {
     "data": {
      "text/plain": [
       "'Teste de texto encriptado para, matéria de estudos em segurança de informação 1 2 3 !'"
      ]
     },
     "execution_count": 78,
     "metadata": {},
     "output_type": "execute_result"
    }
   ],
   "source": [
    "decrypt(encriptado,'unicep')"
   ]
  }
 ],
 "metadata": {
  "kernelspec": {
   "display_name": "Python 3",
   "language": "python",
   "name": "python3"
  },
  "language_info": {
   "codemirror_mode": {
    "name": "ipython",
    "version": 3
   },
   "file_extension": ".py",
   "mimetype": "text/x-python",
   "name": "python",
   "nbconvert_exporter": "python",
   "pygments_lexer": "ipython3",
   "version": "3.6.7"
  }
 },
 "nbformat": 4,
 "nbformat_minor": 2
}
