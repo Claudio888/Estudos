{
 "cells": [
  {
   "cell_type": "markdown",
   "metadata": {},
   "source": [
    "<h1>Problema de Monty Hall(3 portas)</h1> "
   ]
  },
  {
   "cell_type": "markdown",
   "metadata": {},
   "source": [
    "O problema ou paradoxo de Monty Hall, surgiu devido ao programada chamado \"Lets Make a Deal\" que era apresentado na TV Americana na decada de 70, onde três portas eram disponibilizadas para o participante, em uma delas estava o premio de maior valor (geralmente um carro), e nas demais o de menor valor(cabra), então o show decorria da seguinte maneira:\n",
    "\n",
    "<br>1 - Escolha de uma das portas pelo participante.</br>\n",
    "<br>2 - Apresentador abre uma das portas que não contem o premio principal.</br>\n",
    "<br>3 - Apresentador oferece chance de troca de porta para o participante ou de permanecer com a mesma já escolhida.</br> \n",
    "<br>4 - Abre a porta escolhida e revela o premio. </br>\n",
    "\n",
    "\n",
    "Este problema gerou grande duvida e contestamentos, inclusive de grandes matematicos, abaixo uma breve analise do caso. \n"
   ]
  },
  {
   "cell_type": "markdown",
   "metadata": {},
   "source": [
    "<h2>A duvida</h2>\n",
    "\n",
    "<h4>Devemos ou não, trocar de porta?</h4>\n",
    "\n",
    "Este é o questionamento que ocorre no passo 3 do jogo, e confunde nosso cerebro, pois antes de fazer esta pergunta, o apresentador tomou a ação de abrir uma porta que continha uma das cabras. Parece uma ação inofensiva e apenas para dar mais emoção ao jogo, porem ao realizar esta operação ele nos da uma dica valiosa, e com a pergunta a seguir, temos a oportunidade de dobrar nossas chances de acertar a porta com o carro, caso troquemos de porta. \n",
    "\n",
    "A resposta intuitiva e provavelmente imediata é que continuemos com nossa escolha, nosso cerebro não é muito bom em tratar tais situações de imediado, e principalmente em um momento de tensão, porém manter a porta é errado do ponto de vista da probabilidade. Podemos pensar que ao eliminar uma das portas, restando apenas duas, nossa chance de acerto passou de 33% para 50%, porem não é uma verdade, o apresentador sempre sabe onde esta o carro, e abrira sempre a porta com uma das cabras.\n",
    "\n",
    "Quando escolhemos uma das portas no inicio, nossa chance de acertar é de 1/3(pois escolhemos uma porta e nosso espaço amostral são de 3 portas) e de errar são 2/3. Então, ao eliminar uma das portas erradas e oferecer a troca podemos ficar com 2/3 de chance de acerto, que anteriormente era a chance de errarmos. Este cenario fica mais claro ao imaginarmos uma quantidade de 100 portas, onde o jogo ocorre da mesma maneira, você escolhe uma porta e a chance de acertar de primeira neste caso é de 1/100, o apresentador abre todas as outras portas e deixa apenas a que você escolheu e uma outra, a chance desta outra conter o carro, é de 99/100, vemos então como é vantajoso troca de porta. \n",
    "\n",
    "<h4>Mas e se eu escolher a correta de primeira?</h4>\n",
    "\n",
    "A chance disto acontecer é de 33%, então caso escolha e depois troque, você perderá, porem esta simples abordarem probabilistica mostra que é vantajoso mudar sua escolha. \n",
    "\n",
    "\n",
    "\n",
    "\n",
    "\n",
    "\n",
    "\n",
    "\n",
    "\n",
    "\n",
    "\n",
    "\n",
    "\n"
   ]
  },
  {
   "cell_type": "markdown",
   "metadata": {},
   "source": [
    "Abaixo, demonstro as duas situações, primeiramente a de manter sempre a porta escolhida, executo durante 100000 épocas, um numero suficiente e consideravel para validar a probabilidade. "
   ]
  },
  {
   "cell_type": "markdown",
   "metadata": {},
   "source": [
    "<h2>Mantendo sempre a porta</h2>\n",
    "\n",
    "Ao executar durante 100000 épocas, vemos o resultado por volta de 33% (1/3)"
   ]
  },
  {
   "cell_type": "code",
   "execution_count": 3,
   "metadata": {},
   "outputs": [],
   "source": [
    "import random"
   ]
  },
  {
   "cell_type": "code",
   "execution_count": 16,
   "metadata": {},
   "outputs": [
    {
     "name": "stdout",
     "output_type": "stream",
     "text": [
      "Numero de acertos 33327, numero de erros 66673\n",
      "Porcentagem de acerto: 33.33 %\n"
     ]
    }
   ],
   "source": [
    "#Sem troca de porta\n",
    "semtroca=0\n",
    "erro = 0 \n",
    "\n",
    "for i in range(100000):\n",
    "    portas = [0,1,2]\n",
    "    premiada = random.choice(portas)\n",
    "    escolhaparticipante = random.choice(portas)\n",
    "    if escolhaparticipante==premiada:\n",
    "        semtroca+=1\n",
    "    else:\n",
    "        erro+=1\n",
    "    i+=1\n",
    "    #print(\"\\n\")\n",
    "    #print(\"Premiada:\",premiada)\n",
    "    #print(\"Escolha:\",escolhaparticipante)\n",
    "\n",
    "print(\"Numero de acertos %i, numero de erros %i\" % (semtroca,erro))\n",
    "print(\"Porcentagem de acerto: %.2f %%\" % ((semtroca/100000)*100))"
   ]
  },
  {
   "cell_type": "markdown",
   "metadata": {},
   "source": [
    "<h2>Trocando sempre a porta</h2> \n",
    "\n",
    "Ao executar durante 100000 épocas, vemos o resultado por volta de 66% (2/3)"
   ]
  },
  {
   "cell_type": "code",
   "execution_count": 13,
   "metadata": {},
   "outputs": [
    {
     "name": "stdout",
     "output_type": "stream",
     "text": [
      "Numero de acertos 66683, numero de erros 33317\n",
      "Porcentagem de acerto: 66.68 %\n"
     ]
    }
   ],
   "source": [
    "#Com troca de porta\n",
    "comtroca=0\n",
    "erro=0\n",
    "for i in range(100000):\n",
    "    portas = [0,1,2]\n",
    "    premiada = random.choice(portas)\n",
    "    escolhaparticipante = random.choice(portas)\n",
    "    remover = list(portas)\n",
    "    remover.remove(escolhaparticipante)\n",
    "    if premiada in remover:\n",
    "        remover.remove(premiada)\n",
    "    portas.remove(remover[0])\n",
    "    \n",
    "    for porta in portas:\n",
    "        if porta == escolhaparticipante:\n",
    "            portas.remove(porta)\n",
    "            novaescolha = portas[0]\n",
    "    if novaescolha == premiada:\n",
    "        comtroca+=1\n",
    "    else:\n",
    "        erro+=1\n",
    "    #print(\"\\n\")\n",
    "    #print(\"Premiada:\",premiada)\n",
    "    #print(\"Escolha:\",escolhaparticipante)\n",
    "    #print(\"Porta removida:\",remover[0])\n",
    "    #print(\"Nova escolha:\",novaescolha)\n",
    "    i+=1\n",
    "\n",
    "        \n",
    "print(\"Numero de acertos %i, numero de erros %i\" % (comtroca,erro))\n",
    "print(\"Porcentagem de acerto: %.2f %%\" % ((comtroca/100000)*100))"
   ]
  },
  {
   "cell_type": "markdown",
   "metadata": {},
   "source": [
    "<h2>Referencias</h2> \n",
    "\n",
    "Meu primeiro contato com o problema foi no livro \"O andar do bebado\", excelente livro introdutorio e com otimos exemplos no campo da probabilidade. Recomendo a leitura. \n",
    "\n",
    "Abaixo, um link com códigos em python demonstrando o mesmo problema, de forma muito mais pythonica e bonita do que a minha. \n",
    "\n",
    "https://stackoverflow.com/questions/1247863/is-this-a-good-or-bad-simulation-for-monty-hall-how-come\n",
    "\n",
    "Tambem algumas paginas explicando e demonstrando o problema. \n",
    "\n",
    "<br>1 - https://repositorio.ufsc.br/xmlui/bitstream/handle/123456789/160669/337661.pdf?sequence=1&isAllowed=y</br>\n",
    "<br>2 - http://www.stayorswitch.com/explanation.php</br>\n",
    "<br>3 - https://pt.wikipedia.org/wiki/Problema_de_Monty_Hall</br>\n",
    "<br>4 - http://www.statisticshowto.com/probability-and-statistics/monty-hall-problem/</br>\n",
    "\n"
   ]
  }
 ],
 "metadata": {
  "kernelspec": {
   "display_name": "Python 3",
   "language": "python",
   "name": "python3"
  },
  "language_info": {
   "codemirror_mode": {
    "name": "ipython",
    "version": 3
   },
   "file_extension": ".py",
   "mimetype": "text/x-python",
   "name": "python",
   "nbconvert_exporter": "python",
   "pygments_lexer": "ipython3",
   "version": "3.6.0"
  }
 },
 "nbformat": 4,
 "nbformat_minor": 2
}
